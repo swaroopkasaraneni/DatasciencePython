{
  "nbformat": 4,
  "nbformat_minor": 0,
  "metadata": {
    "colab": {
      "provenance": [],
      "authorship_tag": "ABX9TyNUFW0qjlEpxC8DA5NtbnCE",
      "include_colab_link": true
    },
    "kernelspec": {
      "name": "python3",
      "display_name": "Python 3"
    },
    "language_info": {
      "name": "python"
    }
  },
  "cells": [
    {
      "cell_type": "markdown",
      "metadata": {
        "id": "view-in-github",
        "colab_type": "text"
      },
      "source": [
        "<a href=\"https://colab.research.google.com/github/swaroopkasaraneni/DatasciencePython/blob/main/Supervisor2Case3.ipynb\" target=\"_parent\"><img src=\"https://colab.research.google.com/assets/colab-badge.svg\" alt=\"Open In Colab\"/></a>"
      ]
    },
    {
      "cell_type": "markdown",
      "source": [
        "Since \"The Star RJ\" is a reality show, the time to select candidates is very short.  The whole success of the show and hence the profits depends upon quick and smooth execution\n",
        "\n",
        "\n",
        "```\n",
        "Fields in Data\n",
        "•meanfreq: mean frequency (in kHz)\n",
        "•sd: standard deviation of the frequency\n",
        "•median: median frequency (in kHz)\n",
        "•Q25: first quantile (in kHz)\n",
        "•Q75: third quantile (in kHz)\n",
        "•IQR: interquantile range (in kHz)\n",
        "•skew: skewness (see note in specprop description)\n",
        "•kurt: kurtosis (see note in specprop description)\n",
        "•sp.ent: spectral entropy\n",
        "•sfm: spectral flatness\n",
        "•mode: mode frequency\n",
        "•centroid: frequency centroid (see specprop)\n",
        "•peakf: peak frequency (frequency with the highest energy)\n",
        "•meanfun: average of fundamental frequency measured across the acoustic signal\n",
        "•minfun: minimum fundamental frequency measured across the acoustic signal\n",
        "•maxfun: maximum fundamental frequency measured across the acoustic signal\n",
        "•meandom: average of dominant frequency measured across the acoustic signal\n",
        "•mindom: minimum of dominant frequency measured across the acoustic signal\n",
        "•maxdom: maximum of dominant frequency measured across the acoustic signal\n",
        "•dfrange: range of dominant frequency measured across the acoustic signal\n",
        "•modindx: modulation index. Calculated as the accumulated absolute difference between adjacent measurements of fundamental frequencies divided by the frequency range\n",
        "•label: male or female\n",
        "\n",
        "```"
      ],
      "metadata": {
        "id": "kMnvmkfNjG33"
      }
    },
    {
      "cell_type": "code",
      "source": [
        "import pandas as pd\n",
        "from sklearn.model_selection import train_test_split\n",
        "from sklearn.preprocessing import LabelEncoder, StandardScaler\n",
        "from sklearn.svm import SVC\n",
        "from sklearn.metrics import accuracy_score, classification_report, confusion_matrix\n",
        "\n",
        "df = pd.read_csv(\"/content/voice-classification.csv\")\n",
        "\n",
        "# Check for missing values\n",
        "#print(df.isnull().sum())\n",
        "\n",
        "label_encoder = LabelEncoder()\n",
        "df['label'] = label_encoder.fit_transform(df['label'])  # 'male' -> 0, 'female' -> 1\n",
        "X = df.drop(columns=['label'])\n",
        "y = df['label']\n",
        "\n",
        "scaler = StandardScaler()\n",
        "X_scaled = scaler.fit_transform(X)\n",
        "\n",
        "X_train, X_test, y_train, y_test = train_test_split(X_scaled, y, test_size=0.2, random_state=42)\n",
        "\n",
        "# Train an SVM with an RBF kernel\n",
        "svm = SVC(kernel='rbf', random_state=42)\n",
        "svm.fit(X_train, y_train)\n",
        "\n",
        "y_pred = svm.predict(X_test)\n",
        "accuracy = accuracy_score(y_test, y_pred)\n",
        "print(f\"Accuracy: {accuracy * 100:.2f}%\")\n",
        "\n",
        "report = classification_report(y_test, y_pred)\n",
        "print(\"Classification Report:\\n\", report)\n",
        "\n",
        "conf_matrix = confusion_matrix(y_test, y_pred)\n",
        "print(\"Confusion Matrix:\\n\", conf_matrix)\n"
      ],
      "metadata": {
        "colab": {
          "base_uri": "https://localhost:8080/"
        },
        "id": "07aXPd58jKBp",
        "outputId": "5960ffcc-f65f-4009-ee34-4f78afcfd1ab"
      },
      "execution_count": 2,
      "outputs": [
        {
          "output_type": "stream",
          "name": "stdout",
          "text": [
            "Accuracy: 98.26%\n",
            "Classification Report:\n",
            "               precision    recall  f1-score   support\n",
            "\n",
            "           0       0.98      0.99      0.98       297\n",
            "           1       0.99      0.98      0.98       337\n",
            "\n",
            "    accuracy                           0.98       634\n",
            "   macro avg       0.98      0.98      0.98       634\n",
            "weighted avg       0.98      0.98      0.98       634\n",
            "\n",
            "Confusion Matrix:\n",
            " [[293   4]\n",
            " [  7 330]]\n"
          ]
        }
      ]
    },
    {
      "cell_type": "code",
      "source": [
        "from sklearn.model_selection import GridSearchCV\n",
        "\n",
        "param_grid = {\n",
        "    'C': [0.1, 1, 10, 100],\n",
        "    'gamma': [1, 0.1, 0.01, 0.001],\n",
        "    'kernel': ['rbf']\n",
        "}\n",
        "\n",
        "grid_search = GridSearchCV(SVC(random_state=42), param_grid, cv=5, scoring='accuracy')\n",
        "grid_search.fit(X_train, y_train)\n",
        "\n",
        "best_params = grid_search.best_params_\n",
        "best_score = grid_search.best_score_\n",
        "\n",
        "print(f\"Best Parameters: {best_params}\")\n",
        "print(f\"Best Cross-Validation Accuracy: {best_score * 100:.2f}%\")\n",
        "\n",
        "best_model = grid_search.best_estimator_\n",
        "y_pred_best = best_model.predict(X_test)\n",
        "accuracy_best = accuracy_score(y_test, y_pred_best)\n",
        "print(f\"Test Accuracy with Best Parameters: {accuracy_best * 100:.2f}%\")\n"
      ],
      "metadata": {
        "colab": {
          "base_uri": "https://localhost:8080/"
        },
        "id": "Zak4O_-dlja6",
        "outputId": "c82b5586-b887-464f-ae7a-6436809f3fb4"
      },
      "execution_count": 3,
      "outputs": [
        {
          "output_type": "stream",
          "name": "stdout",
          "text": [
            "Best Parameters: {'C': 10, 'gamma': 0.1, 'kernel': 'rbf'}\n",
            "Best Cross-Validation Accuracy: 98.15%\n",
            "Test Accuracy with Best Parameters: 98.42%\n"
          ]
        }
      ]
    }
  ]
}