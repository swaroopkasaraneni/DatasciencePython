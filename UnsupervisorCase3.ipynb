{
  "nbformat": 4,
  "nbformat_minor": 0,
  "metadata": {
    "colab": {
      "provenance": [],
      "authorship_tag": "ABX9TyMHU5Myh797RixlGimnxZqy",
      "include_colab_link": true
    },
    "kernelspec": {
      "name": "python3",
      "display_name": "Python 3"
    },
    "language_info": {
      "name": "python"
    }
  },
  "cells": [
    {
      "cell_type": "markdown",
      "metadata": {
        "id": "view-in-github",
        "colab_type": "text"
      },
      "source": [
        "<a href=\"https://colab.research.google.com/github/swaroopkasaraneni/DatasciencePython/blob/main/UnsupervisorCase3.ipynb\" target=\"_parent\"><img src=\"https://colab.research.google.com/assets/colab-badge.svg\" alt=\"Open In Colab\"/></a>"
      ]
    },
    {
      "cell_type": "markdown",
      "source": [
        "1. Load the file “zoo.data” and look at the info and the first five rows. The first column denotes the animal name and the last one specifies a high-level class for the corresponding animal.\n",
        "2. Find out the unique number of high-levelcclasses\n",
        "3. Use the 16-intermediate feature and perform an agglomerative clustering.[ Hint: Refer to the agglomerative clustering module in scikit learn and set the number of clusters appropriately]\n",
        "4. Compute the mean squared error by comparing the actual class and predicted high-levelclass.\n"
      ],
      "metadata": {
        "id": "9bYmLXgPsA1t"
      }
    },
    {
      "cell_type": "code",
      "source": [
        "import pandas as pd\n",
        "from sklearn.cluster import AgglomerativeClustering\n",
        "from sklearn.metrics import mean_squared_error\n",
        "\n",
        "\n",
        "zoo_df = pd.read_csv(\"zoo.csv\")\n",
        "print(\"Dataset Info:\")\n",
        "print(zoo_df.info())\n",
        "print(\"\\nFirst 5 rows:\")\n",
        "print(zoo_df.head())\n",
        "\n",
        "# Unique number of high-level classes\n",
        "unique_classes = zoo_df['class_type'].nunique()\n",
        "print(f\"\\nNumber of unique high-level classes: {unique_classes}\")\n",
        "\n",
        "# Prepare data for clustering\n",
        "X = zoo_df.iloc[:, 1:-1]  # Exclude 'animal_name' and 'class_type'\n",
        "y_actual = zoo_df['class_type']\n",
        "\n",
        "# Perform Agglomerative Clustering\n",
        "agg_clustering = AgglomerativeClustering(n_clusters=unique_classes)\n",
        "y_pred = agg_clustering.fit_predict(X)\n",
        "\n",
        "# Compute Mean Squared Error (MSE)\n",
        "mse = mean_squared_error(y_actual, y_pred)\n",
        "print(f\"\\nMean Squared Error (MSE) between actual and predicted classes: {mse}\")\n"
      ],
      "metadata": {
        "colab": {
          "base_uri": "https://localhost:8080/"
        },
        "id": "gTe64H6BsHjc",
        "outputId": "7bd407e5-a1ba-46f0-d411-9b3113b70067"
      },
      "execution_count": 2,
      "outputs": [
        {
          "output_type": "stream",
          "name": "stdout",
          "text": [
            "Dataset Info:\n",
            "<class 'pandas.core.frame.DataFrame'>\n",
            "RangeIndex: 101 entries, 0 to 100\n",
            "Data columns (total 18 columns):\n",
            " #   Column       Non-Null Count  Dtype \n",
            "---  ------       --------------  ----- \n",
            " 0   animal_name  101 non-null    object\n",
            " 1   hair         101 non-null    int64 \n",
            " 2   feathers     101 non-null    int64 \n",
            " 3   eggs         101 non-null    int64 \n",
            " 4   milk         101 non-null    int64 \n",
            " 5   airborne     101 non-null    int64 \n",
            " 6   aquatic      101 non-null    int64 \n",
            " 7   predator     101 non-null    int64 \n",
            " 8   toothed      101 non-null    int64 \n",
            " 9   backbone     101 non-null    int64 \n",
            " 10  breathes     101 non-null    int64 \n",
            " 11  venomous     101 non-null    int64 \n",
            " 12  fins         101 non-null    int64 \n",
            " 13  legs         101 non-null    int64 \n",
            " 14  tail         101 non-null    int64 \n",
            " 15  domestic     101 non-null    int64 \n",
            " 16  catsize      101 non-null    int64 \n",
            " 17  class_type   101 non-null    int64 \n",
            "dtypes: int64(17), object(1)\n",
            "memory usage: 14.3+ KB\n",
            "None\n",
            "\n",
            "First 5 rows:\n",
            "  animal_name  hair  feathers  eggs  milk  airborne  aquatic  predator  \\\n",
            "0    aardvark     1         0     0     1         0        0         1   \n",
            "1    antelope     1         0     0     1         0        0         0   \n",
            "2        bass     0         0     1     0         0        1         1   \n",
            "3        bear     1         0     0     1         0        0         1   \n",
            "4        boar     1         0     0     1         0        0         1   \n",
            "\n",
            "   toothed  backbone  breathes  venomous  fins  legs  tail  domestic  catsize  \\\n",
            "0        1         1         1         0     0     4     0         0        1   \n",
            "1        1         1         1         0     0     4     1         0        1   \n",
            "2        1         1         0         0     1     0     1         0        0   \n",
            "3        1         1         1         0     0     4     0         0        1   \n",
            "4        1         1         1         0     0     4     1         0        1   \n",
            "\n",
            "   class_type  \n",
            "0           1  \n",
            "1           1  \n",
            "2           4  \n",
            "3           1  \n",
            "4           1  \n",
            "\n",
            "Number of unique high-level classes: 7\n",
            "\n",
            "Mean Squared Error (MSE) between actual and predicted classes: 7.673267326732673\n"
          ]
        }
      ]
    }
  ]
}