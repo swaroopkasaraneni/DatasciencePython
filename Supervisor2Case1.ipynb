{
  "nbformat": 4,
  "nbformat_minor": 0,
  "metadata": {
    "colab": {
      "provenance": [],
      "authorship_tag": "ABX9TyMLctDRrPSUB6b+VexzNs+S",
      "include_colab_link": true
    },
    "kernelspec": {
      "name": "python3",
      "display_name": "Python 3"
    },
    "language_info": {
      "name": "python"
    }
  },
  "cells": [
    {
      "cell_type": "markdown",
      "metadata": {
        "id": "view-in-github",
        "colab_type": "text"
      },
      "source": [
        "<a href=\"https://colab.research.google.com/github/swaroopkasaraneni/DatasciencePython/blob/main/Supervisor2Case1.ipynb\" target=\"_parent\"><img src=\"https://colab.research.google.com/assets/colab-badge.svg\" alt=\"Open In Colab\"/></a>"
      ]
    },
    {
      "cell_type": "markdown",
      "source": [
        "1. Load the kinematics dataset as measured on mobile sensors from the file “run_or_walk.csv”. List out the columns in the dataset.\n",
        "2. Let the target variable ‘y’ be the activity and assign all the columns after it to ‘x’.\n",
        "3. Using Scikit-learn fit a Gaussian Naive Bayes model and observe the accuracy.Generate a classification report using scikit learn.\n"
      ],
      "metadata": {
        "id": "b9h-6sjdlyXc"
      }
    },
    {
      "cell_type": "code",
      "source": [
        "import pandas as pd\n",
        "\n",
        "# Load the dataset\n",
        "df = pd.read_csv(\"run_or_walk.csv\")\n",
        "\n",
        "# List the columns in the dataset\n",
        "print(df.columns)\n",
        "\n",
        "y = df['activity']\n",
        "X = df.drop(columns=['activity', 'date', 'time', 'username', 'wrist'])\n",
        "\n",
        "from sklearn.model_selection import train_test_split\n",
        "from sklearn.naive_bayes import GaussianNB\n",
        "from sklearn.metrics import classification_report, accuracy_score\n",
        "\n",
        "\n",
        "X_train, X_test, y_train, y_test = train_test_split(X, y, test_size=0.2, random_state=42)\n",
        "gnb = GaussianNB()\n",
        "gnb.fit(X_train, y_train)\n",
        "\n",
        "y_pred = gnb.predict(X_test)\n",
        "accuracy = accuracy_score(y_test, y_pred)\n",
        "print(f\"Accuracy: {accuracy * 100:.2f}%\")\n",
        "\n",
        "report = classification_report(y_test, y_pred)\n",
        "print(report)\n",
        "\n"
      ],
      "metadata": {
        "colab": {
          "base_uri": "https://localhost:8080/"
        },
        "id": "Sbb37oXhmtSa",
        "outputId": "b8c04a4f-2fde-4426-f0bc-e5bc7e4e2803"
      },
      "execution_count": 1,
      "outputs": [
        {
          "output_type": "stream",
          "name": "stdout",
          "text": [
            "Index(['date', 'time', 'username', 'wrist', 'activity', 'acceleration_x',\n",
            "       'acceleration_y', 'acceleration_z', 'gyro_x', 'gyro_y', 'gyro_z'],\n",
            "      dtype='object')\n",
            "Accuracy: 95.80%\n",
            "              precision    recall  f1-score   support\n",
            "\n",
            "           0       0.93      0.99      0.96      8913\n",
            "           1       0.99      0.93      0.96      8805\n",
            "\n",
            "    accuracy                           0.96     17718\n",
            "   macro avg       0.96      0.96      0.96     17718\n",
            "weighted avg       0.96      0.96      0.96     17718\n",
            "\n"
          ]
        }
      ]
    },
    {
      "cell_type": "markdown",
      "source": [
        "4. Repeat the model once using only the acceleration values as predictors and then using only the gyro values as predictors. Comment on the difference in accuracy between both the models."
      ],
      "metadata": {
        "id": "ELj_tVJNnbpq"
      }
    },
    {
      "cell_type": "code",
      "source": [
        "X_acc = X[['acceleration_x', 'acceleration_y', 'acceleration_z']]\n",
        "\n",
        "X_train_acc, X_test_acc, y_train_acc, y_test_acc = train_test_split(X_acc, y, test_size=0.2, random_state=42)\n",
        "gnb_acc = GaussianNB()\n",
        "gnb_acc.fit(X_train_acc, y_train_acc)\n",
        "\n",
        "y_pred_acc = gnb_acc.predict(X_test_acc)\n",
        "accuracy_acc = accuracy_score(y_test_acc, y_pred_acc)\n",
        "print(f\"Accuracy using only Acceleration: {accuracy_acc * 100:.2f}%\")\n",
        "\n",
        "report_acc = classification_report(y_test_acc, y_pred_acc)\n",
        "print(report_acc)\n"
      ],
      "metadata": {
        "colab": {
          "base_uri": "https://localhost:8080/"
        },
        "id": "pBtoUs_Mnb7J",
        "outputId": "3fd5e7c5-1e57-4341-9edb-cc7f626ced28"
      },
      "execution_count": 2,
      "outputs": [
        {
          "output_type": "stream",
          "name": "stdout",
          "text": [
            "Accuracy using only Acceleration: 95.89%\n",
            "              precision    recall  f1-score   support\n",
            "\n",
            "           0       0.93      0.99      0.96      8913\n",
            "           1       0.99      0.92      0.96      8805\n",
            "\n",
            "    accuracy                           0.96     17718\n",
            "   macro avg       0.96      0.96      0.96     17718\n",
            "weighted avg       0.96      0.96      0.96     17718\n",
            "\n"
          ]
        }
      ]
    },
    {
      "cell_type": "code",
      "source": [
        "\n",
        "X_gyro = X[['gyro_x', 'gyro_y', 'gyro_z']]\n",
        "X_train_gyro, X_test_gyro, y_train_gyro, y_test_gyro = train_test_split(X_gyro, y, test_size=0.2, random_state=42)\n",
        "\n",
        "gnb_gyro = GaussianNB()\n",
        "gnb_gyro.fit(X_train_gyro, y_train_gyro)\n",
        "\n",
        "y_pred_gyro = gnb_gyro.predict(X_test_gyro)\n",
        "accuracy_gyro = accuracy_score(y_test_gyro, y_pred_gyro)\n",
        "print(f\"Accuracy using only Gyroscope: {accuracy_gyro * 100:.2f}%\")\n",
        "\n",
        "report_gyro = classification_report(y_test_gyro, y_pred_gyro)\n",
        "print(report_gyro)\n"
      ],
      "metadata": {
        "colab": {
          "base_uri": "https://localhost:8080/"
        },
        "id": "VvwoqJHfn0De",
        "outputId": "261cfb6b-0956-431c-e50b-1e352570a2d7"
      },
      "execution_count": 3,
      "outputs": [
        {
          "output_type": "stream",
          "name": "stdout",
          "text": [
            "Accuracy using only Gyroscope: 65.35%\n",
            "              precision    recall  f1-score   support\n",
            "\n",
            "           0       0.63      0.75      0.68      8913\n",
            "           1       0.69      0.56      0.61      8805\n",
            "\n",
            "    accuracy                           0.65     17718\n",
            "   macro avg       0.66      0.65      0.65     17718\n",
            "weighted avg       0.66      0.65      0.65     17718\n",
            "\n"
          ]
        }
      ]
    }
  ]
}