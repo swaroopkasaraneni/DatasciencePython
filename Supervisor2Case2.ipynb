{
  "nbformat": 4,
  "nbformat_minor": 0,
  "metadata": {
    "colab": {
      "provenance": [],
      "authorship_tag": "ABX9TyPp+QdVYq1368Xt3T9grLIU",
      "include_colab_link": true
    },
    "kernelspec": {
      "name": "python3",
      "display_name": "Python 3"
    },
    "language_info": {
      "name": "python"
    }
  },
  "cells": [
    {
      "cell_type": "markdown",
      "metadata": {
        "id": "view-in-github",
        "colab_type": "text"
      },
      "source": [
        "<a href=\"https://colab.research.google.com/github/swaroopkasaraneni/DatasciencePython/blob/main/Supervisor2Case2.ipynb\" target=\"_parent\"><img src=\"https://colab.research.google.com/assets/colab-badge.svg\" alt=\"Open In Colab\"/></a>"
      ]
    },
    {
      "cell_type": "code",
      "execution_count": null,
      "metadata": {
        "id": "ELVRXXQ7osJ0"
      },
      "outputs": [],
      "source": []
    },
    {
      "cell_type": "markdown",
      "source": [
        "1. Load the data from “college.csv” that has attributes collected about private and public colleges for a particular year. We will try to predict the private/public status of the college from other attributes.\n",
        "2. Use LabelEncoder to encode the target variable intonumerical form and split the data such that 20% of the data is set aside for testing.\n",
        "3. Fit a linear SVMfrom scikit learn and observe the accuracy.[Hint:Use Linear SVC]\n",
        "\n"
      ],
      "metadata": {
        "id": "7guflL_zclkO"
      }
    },
    {
      "cell_type": "code",
      "source": [
        "import pandas as pd\n",
        "from sklearn.model_selection import train_test_split\n",
        "from sklearn.preprocessing import LabelEncoder\n",
        "from sklearn.svm import LinearSVC\n",
        "from sklearn.metrics import accuracy_score, classification_report\n",
        "\n",
        "df = pd.read_csv(\"College.csv\")\n",
        "print(df.head())\n",
        "\n",
        "label_encoder = LabelEncoder()\n",
        "df['Private'] = label_encoder.fit_transform(df['Private'])  # 'Yes' -> 1, 'No' -> 0\n",
        "\n",
        "y = df['Private']\n",
        "X = df.drop(columns=['Private'])\n",
        "X_train, X_test, y_train, y_test = train_test_split(X, y, test_size=0.2, random_state=42)\n",
        "print(f\"Training samples: {X_train.shape[0]}, Testing samples: {X_test.shape[0]}\")\n",
        "\n",
        "svm = LinearSVC(max_iter=10000, random_state=42)\n",
        "svm.fit(X_train, y_train)\n",
        "y_pred = svm.predict(X_test)\n",
        "\n",
        "accuracy = accuracy_score(y_test, y_pred)\n",
        "print(f\"Model Accuracy: {accuracy * 100:.2f}%\")\n",
        "\n",
        "report = classification_report(y_test, y_pred)\n",
        "print(\"Classification Report:\\n\", report)\n",
        "\n"
      ],
      "metadata": {
        "colab": {
          "base_uri": "https://localhost:8080/"
        },
        "id": "MqGIoJYMc9X5",
        "outputId": "a0e46a2a-cb78-44a5-aac8-088ecbf2a33a"
      },
      "execution_count": 2,
      "outputs": [
        {
          "output_type": "stream",
          "name": "stdout",
          "text": [
            "  Private  Apps  Accept  Enroll  Top10perc  Top25perc  F.Undergrad  \\\n",
            "0     Yes  1660    1232     721         23         52         2885   \n",
            "1     Yes  2186    1924     512         16         29         2683   \n",
            "2     Yes  1428    1097     336         22         50         1036   \n",
            "3     Yes   417     349     137         60         89          510   \n",
            "4     Yes   193     146      55         16         44          249   \n",
            "\n",
            "   P.Undergrad  Outstate  Room.Board  Books  Personal  PhD  Terminal  \\\n",
            "0          537      7440        3300    450      2200   70        78   \n",
            "1         1227     12280        6450    750      1500   29        30   \n",
            "2           99     11250        3750    400      1165   53        66   \n",
            "3           63     12960        5450    450       875   92        97   \n",
            "4          869      7560        4120    800      1500   76        72   \n",
            "\n",
            "   S.F.Ratio  perc.alumni  Expend  Grad.Rate  \n",
            "0       18.1           12    7041         60  \n",
            "1       12.2           16   10527         56  \n",
            "2       12.9           30    8735         54  \n",
            "3        7.7           37   19016         59  \n",
            "4       11.9            2   10922         15  \n",
            "Training samples: 621, Testing samples: 156\n",
            "Model Accuracy: 93.59%\n",
            "Classification Report:\n",
            "               precision    recall  f1-score   support\n",
            "\n",
            "           0       0.88      0.91      0.90        47\n",
            "           1       0.96      0.94      0.95       109\n",
            "\n",
            "    accuracy                           0.94       156\n",
            "   macro avg       0.92      0.93      0.92       156\n",
            "weighted avg       0.94      0.94      0.94       156\n",
            "\n"
          ]
        }
      ]
    },
    {
      "cell_type": "markdown",
      "source": [
        "4. Preprocess the data using StandardScalar and fit the same model again and observe the change in accuracy.[Hint: Refer to scikitlearn’s preprocessing methods]"
      ],
      "metadata": {
        "id": "Ic-Tegh8cwPP"
      }
    },
    {
      "cell_type": "code",
      "source": [
        "from sklearn.preprocessing import StandardScaler\n",
        "from sklearn.svm import SVC\n",
        "from sklearn.model_selection import GridSearchCV\n",
        "\n",
        "scaler = StandardScaler()\n",
        "X_train_scaled = scaler.fit_transform(X_train)\n",
        "X_test_scaled = scaler.transform(X_test)\n",
        "\n",
        "svm_scaled = LinearSVC(max_iter=10000, random_state=42)\n",
        "svm_scaled.fit(X_train_scaled, y_train)\n",
        "\n",
        "y_pred_scaled = svm_scaled.predict(X_test_scaled)\n",
        "\n",
        "accuracy_scaled = accuracy_score(y_test, y_pred_scaled)\n",
        "print(f\"Accuracy after Scaling: {accuracy_scaled * 100:.2f}%\")\n",
        "\n",
        "report_scaled = classification_report(y_test, y_pred_scaled)\n",
        "print(\"Classification Report (Scaled Data):\\n\", report_scaled)\n"
      ],
      "metadata": {
        "colab": {
          "base_uri": "https://localhost:8080/"
        },
        "id": "T1pwFOu9c8X0",
        "outputId": "441751a5-a4b8-43c4-95cb-ab64f072bf91"
      },
      "execution_count": 3,
      "outputs": [
        {
          "output_type": "stream",
          "name": "stdout",
          "text": [
            "Accuracy after Scaling: 92.95%\n",
            "Classification Report (Scaled Data):\n",
            "               precision    recall  f1-score   support\n",
            "\n",
            "           0       0.88      0.89      0.88        47\n",
            "           1       0.95      0.94      0.95       109\n",
            "\n",
            "    accuracy                           0.93       156\n",
            "   macro avg       0.91      0.92      0.92       156\n",
            "weighted avg       0.93      0.93      0.93       156\n",
            "\n"
          ]
        }
      ]
    },
    {
      "cell_type": "markdown",
      "source": [
        "5.Use scikit learnsgrid searchto select the best hyperparameter for a non-linear SVM,and identify the model with the best score and its parameters.[Hint: Refer to model_selection module of Scikit learn]"
      ],
      "metadata": {
        "id": "Lmz9zFhvd4nr"
      }
    },
    {
      "cell_type": "code",
      "source": [
        "# Define the parameter grid for GridSearchCV\n",
        "param_grid = {\n",
        "    'C': [0.1, 1, 10, 100],     # Regularization parameter\n",
        "    'gamma': [1, 0.1, 0.01, 0.001],  # Kernel coefficient\n",
        "    'kernel': ['rbf']           # Non-linear kernel\n",
        "}\n",
        "\n",
        "nonlinear_svm = SVC()\n",
        "\n",
        "grid_search = GridSearchCV(nonlinear_svm, param_grid, cv=5, scoring='accuracy')\n",
        "grid_search.fit(X_train_scaled, y_train)\n",
        "\n",
        "best_model = grid_search.best_estimator_\n",
        "best_params = grid_search.best_params_\n",
        "best_score = grid_search.best_score_\n",
        "\n",
        "print(\"Best Model:\", best_model)\n",
        "print(\"Best Parameters:\", best_params)\n",
        "print(f\"Best Cross-Validation Score: {best_score * 100:.2f}%\")\n",
        "\n",
        "y_pred_best = best_model.predict(X_test_scaled)\n",
        "accuracy_best = accuracy_score(y_test, y_pred_best)\n",
        "print(f\"Test Accuracy with Best Non-linear SVM: {accuracy_best * 100:.2f}%\")\n",
        "\n",
        "report_best = classification_report(y_test, y_pred_best)\n",
        "print(\"Classification Report (Best Non-linear SVM):\\n\", report_best)\n"
      ],
      "metadata": {
        "colab": {
          "base_uri": "https://localhost:8080/"
        },
        "id": "k2AMGRf_d5MX",
        "outputId": "5aa574ad-ffd7-44cd-ada6-2519ce171d5a"
      },
      "execution_count": 5,
      "outputs": [
        {
          "output_type": "stream",
          "name": "stdout",
          "text": [
            "Best Model: SVC(C=100, gamma=0.001)\n",
            "Best Parameters: {'C': 100, 'gamma': 0.001, 'kernel': 'rbf'}\n",
            "Best Cross-Validation Score: 95.17%\n",
            "Test Accuracy with Best Non-linear SVM: 92.31%\n",
            "Classification Report (Best Non-linear SVM):\n",
            "               precision    recall  f1-score   support\n",
            "\n",
            "           0       0.87      0.87      0.87        47\n",
            "           1       0.94      0.94      0.94       109\n",
            "\n",
            "    accuracy                           0.92       156\n",
            "   macro avg       0.91      0.91      0.91       156\n",
            "weighted avg       0.92      0.92      0.92       156\n",
            "\n"
          ]
        }
      ]
    }
  ]
}