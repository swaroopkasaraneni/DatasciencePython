{
  "nbformat": 4,
  "nbformat_minor": 0,
  "metadata": {
    "colab": {
      "provenance": [],
      "authorship_tag": "ABX9TyNT/NwDqJ3U7lUNE4pDtVYc",
      "include_colab_link": true
    },
    "kernelspec": {
      "name": "python3",
      "display_name": "Python 3"
    },
    "language_info": {
      "name": "python"
    }
  },
  "cells": [
    {
      "cell_type": "markdown",
      "metadata": {
        "id": "view-in-github",
        "colab_type": "text"
      },
      "source": [
        "<a href=\"https://colab.research.google.com/github/swaroopkasaraneni/DatasciencePython/blob/main/DimRedCase3.ipynb\" target=\"_parent\"><img src=\"https://colab.research.google.com/assets/colab-badge.svg\" alt=\"Open In Colab\"/></a>"
      ]
    },
    {
      "cell_type": "markdown",
      "source": [
        "The improvedsuccess rate of cancer detection and hence direct impact on revenue and profit of hospital. More than that it contributes to JCH's mission \"Better Life\"\n"
      ],
      "metadata": {
        "id": "e1rYNr6Uiew4"
      }
    },
    {
      "cell_type": "code",
      "source": [
        "import pandas as pd\n",
        "from sklearn.model_selection import train_test_split\n",
        "from sklearn.linear_model import LogisticRegression\n",
        "from sklearn.metrics import accuracy_score, confusion_matrix\n",
        "from sklearn.datasets import load_breast_cancer\n",
        "\n",
        "data = load_breast_cancer()\n",
        "df = pd.DataFrame(data.data, columns=data.feature_names)\n",
        "\n",
        "df['diagnosis'] = data.target\n",
        "# labels (M for malignant, B for benign)\n",
        "df['diagnosis'] = df['diagnosis'].map({0: 'B', 1: 'M'})\n",
        "\n",
        "X = df.drop(columns='diagnosis')\n",
        "y = df['diagnosis']\n",
        "X_train, X_test, y_train, y_test = train_test_split(X, y, test_size=0.2, random_state=42)\n",
        "\n",
        "logreg = LogisticRegression(max_iter=10000)\n",
        "logreg.fit(X_train, y_train)\n",
        "\n",
        "y_pred = logreg.predict(X_test)\n",
        "accuracy = accuracy_score(y_test, y_pred)\n",
        "print(f\"Model Accuracy: {accuracy * 100:.2f}%\")\n",
        "\n",
        "conf_matrix = confusion_matrix(y_test, y_pred)\n",
        "print(\"Confusion Matrix:\\n\", conf_matrix)\n",
        "\n",
        "revenue_per_correct_diagnosis = 2000\n",
        "correct_diagnoses = conf_matrix[1, 1] + conf_matrix[0, 0]  # True positives + true negatives\n",
        "\n",
        "potential_revenue_impact = correct_diagnoses * revenue_per_correct_diagnosis\n",
        "print(f\"Potential Revenue Impact: ${potential_revenue_impact}\")\n"
      ],
      "metadata": {
        "colab": {
          "base_uri": "https://localhost:8080/"
        },
        "id": "CXbV3ZLXkViy",
        "outputId": "9d73c96e-c627-42e5-fd0d-cfee0971b522"
      },
      "execution_count": 3,
      "outputs": [
        {
          "output_type": "stream",
          "name": "stdout",
          "text": [
            "Model Accuracy: 95.61%\n",
            "Confusion Matrix:\n",
            " [[39  4]\n",
            " [ 1 70]]\n",
            "Potential Revenue Impact: $218000\n"
          ]
        }
      ]
    }
  ]
}