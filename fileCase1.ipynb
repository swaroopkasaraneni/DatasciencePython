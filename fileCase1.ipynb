{
  "nbformat": 4,
  "nbformat_minor": 0,
  "metadata": {
    "colab": {
      "provenance": [],
      "authorship_tag": "ABX9TyOHtV5se9i78Dr1s383eNrD",
      "include_colab_link": true
    },
    "kernelspec": {
      "name": "python3",
      "display_name": "Python 3"
    },
    "language_info": {
      "name": "python"
    }
  },
  "cells": [
    {
      "cell_type": "markdown",
      "metadata": {
        "id": "view-in-github",
        "colab_type": "text"
      },
      "source": [
        "<a href=\"https://colab.research.google.com/github/swaroopkasaraneni/PythonProgramming/blob/main/fileCase1.ipynb\" target=\"_parent\"><img src=\"https://colab.research.google.com/assets/colab-badge.svg\" alt=\"Open In Colab\"/></a>"
      ]
    },
    {
      "cell_type": "code",
      "execution_count": null,
      "metadata": {
        "id": "f2urLEa8V35j"
      },
      "outputs": [],
      "source": []
    },
    {
      "cell_type": "markdown",
      "source": [
        "1. What is the output of the following code?\n",
        "nums =set([1,1,2,3,3,3,4,4])\n",
        "print(len(nums))"
      ],
      "metadata": {
        "id": "E8dH0lMdWBIw"
      }
    },
    {
      "cell_type": "code",
      "source": [
        "nums =set([1,1,2,3,3,3,4,4])\n",
        "print(len(nums))"
      ],
      "metadata": {
        "colab": {
          "base_uri": "https://localhost:8080/"
        },
        "id": "pPW7sgcKWCJ6",
        "outputId": "78486d86-ccf2-4801-a37a-2133dc6a7908"
      },
      "execution_count": 1,
      "outputs": [
        {
          "output_type": "stream",
          "name": "stdout",
          "text": [
            "4\n"
          ]
        }
      ]
    },
    {
      "cell_type": "markdown",
      "source": [
        "2 What will be the output?\n",
        "d ={\"john\":40, \"peter\":45}\n",
        "print(list(d.keys()))"
      ],
      "metadata": {
        "id": "XoGAk_ciWPax"
      }
    },
    {
      "cell_type": "code",
      "source": [
        "d ={\"john\":40, \"peter\":45}\n",
        "print(list(d.keys()))"
      ],
      "metadata": {
        "colab": {
          "base_uri": "https://localhost:8080/"
        },
        "id": "tq4WjLUtWSE0",
        "outputId": "5a03d39e-356b-48f6-d8d8-d9c46c251dc8"
      },
      "execution_count": 2,
      "outputs": [
        {
          "output_type": "stream",
          "name": "stdout",
          "text": [
            "['john', 'peter']\n"
          ]
        }
      ]
    },
    {
      "cell_type": "markdown",
      "source": [
        "3.A website requires a user to input username and password to register. Write a program to check the validity of password given by user. Following are the criteria for checking password:\n",
        "1. At least 1 letter between [a-z]\n",
        "2. At least 1 number between [0-9]\n",
        "1. At least 1 letter between [A-Z]\n",
        "3. At least 1 character from [$#@]\n",
        "4. Minimum length of transaction password: 6\n",
        "5. Maximum length of transaction password: 12"
      ],
      "metadata": {
        "id": "bIXTLuXGWe1j"
      }
    },
    {
      "cell_type": "code",
      "source": [
        "import re\n",
        "\n",
        "def check_password(password):\n",
        "    if (6 <= len(password) <= 12 and\n",
        "        re.search(r'[a-z]', password) and\n",
        "        re.search(r'[A-Z]', password) and\n",
        "        re.search(r'[0-9]', password) and\n",
        "        re.search(r'[$#@]', password)):\n",
        "        return True\n",
        "    else:\n",
        "        return False\n",
        "\n",
        "user = input(\"Enter a user name: \")\n",
        "password = input(\"Enter a password: \")\n",
        "if check_password(password):\n",
        "    print(\"Password is valid.\")\n",
        "else:\n",
        "    print(\"Password is invalid.\")\n"
      ],
      "metadata": {
        "colab": {
          "base_uri": "https://localhost:8080/"
        },
        "id": "LjBtu8jGXCDV",
        "outputId": "218ce0e5-4701-4936-d244-5dbb1e7cb3f6"
      },
      "execution_count": 4,
      "outputs": [
        {
          "output_type": "stream",
          "name": "stdout",
          "text": [
            "Enter a user name: swaroop\n",
            "Enter a password: Swaroop@12\n",
            "Password is valid.\n"
          ]
        }
      ]
    },
    {
      "cell_type": "markdown",
      "source": [
        "4.Write a for loop that prints all elements of a list and their position in the list.a = [4,7,3,2,5,9]"
      ],
      "metadata": {
        "id": "2KieAGsJXwxo"
      }
    },
    {
      "cell_type": "code",
      "source": [
        "a = [4, 7, 3, 2, 5, 9]\n",
        "for i in range(len(a)):\n",
        "    print(f\"Position {i}: Element {a[i]}\")\n"
      ],
      "metadata": {
        "colab": {
          "base_uri": "https://localhost:8080/"
        },
        "id": "IRYCPFyPXy_L",
        "outputId": "c1e2bd1a-35a7-4af7-d40e-f666cd0172e6"
      },
      "execution_count": 5,
      "outputs": [
        {
          "output_type": "stream",
          "name": "stdout",
          "text": [
            "Position 0: Element 4\n",
            "Position 1: Element 7\n",
            "Position 2: Element 3\n",
            "Position 3: Element 2\n",
            "Position 4: Element 5\n",
            "Position 5: Element 9\n"
          ]
        }
      ]
    },
    {
      "cell_type": "markdown",
      "source": [
        "5.Please   write   a   program   which accepts  a   string   from   console   and   print   the characters that have even indexes"
      ],
      "metadata": {
        "id": "VS2jWLp8YcqS"
      }
    },
    {
      "cell_type": "code",
      "source": [
        "input_string = input(\"Enter a string: \")\n",
        "even_index_chars = input_string[::2]\n",
        "print(\"Characters with even indexes:\", even_index_chars)\n"
      ],
      "metadata": {
        "colab": {
          "base_uri": "https://localhost:8080/"
        },
        "id": "g6jKNYFFYnQ5",
        "outputId": "a436fd7b-a551-4a21-f1df-74e6f5712a46"
      },
      "execution_count": 6,
      "outputs": [
        {
          "output_type": "stream",
          "name": "stdout",
          "text": [
            "Enter a string: H1e2l3l4o5w6o7r8l9d\n",
            "Characters with even indexes: Helloworld\n"
          ]
        }
      ]
    },
    {
      "cell_type": "markdown",
      "source": [
        "6.Please write a program which accepts a string from console and print it in reverse order"
      ],
      "metadata": {
        "id": "3BbKckkhZBSu"
      }
    },
    {
      "cell_type": "code",
      "source": [
        "input_string = input(\"Enter a string: \")\n",
        "reversed_string = input_string[::-1]\n",
        "print(\"Reversed string:\", reversed_string)\n"
      ],
      "metadata": {
        "colab": {
          "base_uri": "https://localhost:8080/"
        },
        "id": "yjqAeW1mY2NZ",
        "outputId": "75ce8d9a-39d4-4c3e-d497-2c8811ce3dfd"
      },
      "execution_count": 7,
      "outputs": [
        {
          "output_type": "stream",
          "name": "stdout",
          "text": [
            "Enter a string: rise to vote sir\n",
            "Reversed string: ris etov ot esir\n"
          ]
        }
      ]
    },
    {
      "cell_type": "markdown",
      "source": [
        "7.Please write a program which count and print the numbers of each character in a string input by console."
      ],
      "metadata": {
        "id": "UHx6zC5mZmQd"
      }
    },
    {
      "cell_type": "code",
      "source": [
        "\n",
        "input_string = input(\"Enter a string: \")\n",
        "char_count = {}\n",
        "\n",
        "for char in input_string:\n",
        "    if char in char_count:\n",
        "        char_count[char] += 1\n",
        "    else:\n",
        "        char_count[char] = 1\n",
        "\n",
        "print(\"Character counts:\")\n",
        "for char, count in char_count.items():\n",
        "    print(f\"'{char}': {count}\")\n"
      ],
      "metadata": {
        "colab": {
          "base_uri": "https://localhost:8080/"
        },
        "id": "D6fIoIUjZnRW",
        "outputId": "d7d8d36d-980a-4ebe-d14e-71130c990720"
      },
      "execution_count": 8,
      "outputs": [
        {
          "output_type": "stream",
          "name": "stdout",
          "text": [
            "Enter a string: abcdefgabc\n",
            "Character counts:\n",
            "'a': 2\n",
            "'b': 2\n",
            "'c': 2\n",
            "'d': 1\n",
            "'e': 1\n",
            "'f': 1\n",
            "'g': 1\n"
          ]
        }
      ]
    },
    {
      "cell_type": "markdown",
      "source": [
        "8.With   two   given   lists   [1,3,6,78,35,55]   and   [12,24,35,24,88,120,155],   write   a program to make a list whose elements are intersection of the above given lists.\n"
      ],
      "metadata": {
        "id": "atGuP_ifaI0l"
      }
    },
    {
      "cell_type": "code",
      "source": [
        "list1 = [1, 3, 6, 78, 35, 55]\n",
        "list2 = [12, 24, 35, 24, 88, 120, 155]\n",
        "\n",
        "intersection = list(set(list1).intersection(set(list2)))\n",
        "\n",
        "print(\"Intersection of the two lists:\", intersection)\n"
      ],
      "metadata": {
        "colab": {
          "base_uri": "https://localhost:8080/"
        },
        "id": "gx1CdqYraKDv",
        "outputId": "cc15e13d-da95-4f5e-9346-ee34510d4656"
      },
      "execution_count": 9,
      "outputs": [
        {
          "output_type": "stream",
          "name": "stdout",
          "text": [
            "Intersection of the two lists: [35]\n"
          ]
        }
      ]
    },
    {
      "cell_type": "markdown",
      "source": [
        "9.With a given list [12,24,35,24,88,120,155,88,120,155], write a program to print this list after removing all duplicate values with original order reserved."
      ],
      "metadata": {
        "id": "pQ9WcbYwa9yO"
      }
    },
    {
      "cell_type": "code",
      "source": [
        "input_list = [12, 24, 35, 24, 88, 120, 155, 88, 120, 155]\n",
        "\n",
        "converted_set = set(input_list)\n",
        "result = list(converted_set)\n",
        "\n",
        "# Print the result list\n",
        "print(\"List after removing duplicates:\", result)\n"
      ],
      "metadata": {
        "colab": {
          "base_uri": "https://localhost:8080/"
        },
        "id": "cXfeccu4a-yM",
        "outputId": "b51380ea-a832-4e6b-ceda-1192f6de83f0"
      },
      "execution_count": 10,
      "outputs": [
        {
          "output_type": "stream",
          "name": "stdout",
          "text": [
            "List after removing duplicates: [35, 12, 155, 24, 88, 120]\n"
          ]
        }
      ]
    },
    {
      "cell_type": "markdown",
      "source": [
        "10.By using list comprehension, please write a program to print the list after removing the value 24 in [12,24,35,24,88,120,155]."
      ],
      "metadata": {
        "id": "r9n7FYxlb35p"
      }
    },
    {
      "cell_type": "code",
      "source": [
        "input_list = [12, 24, 35, 24, 88, 120, 155]\n",
        "result = [item for item in input_list if item != 24]\n",
        "print(\"List after removing 24:\", result)\n"
      ],
      "metadata": {
        "colab": {
          "base_uri": "https://localhost:8080/"
        },
        "id": "EOm6Ny9mb5Vr",
        "outputId": "dec71f25-735a-4bbf-85cf-992c235f0f0a"
      },
      "execution_count": 11,
      "outputs": [
        {
          "output_type": "stream",
          "name": "stdout",
          "text": [
            "List after removing 24: [12, 35, 88, 120, 155]\n"
          ]
        }
      ]
    },
    {
      "cell_type": "markdown",
      "source": [
        "11.By using list comprehension, please write a program to print the list after removing the 0th,4th,5th numbers in [12,24,35,70,88,120,155]."
      ],
      "metadata": {
        "id": "1Km_-kV-cMGq"
      }
    },
    {
      "cell_type": "code",
      "source": [
        "input_list = [12, 24, 35, 70, 88, 120, 155]\n",
        "result = [item for index, item in enumerate(input_list) if index not in [0, 4, 5]]\n",
        "print(\"List after removing 0th, 4th, and 5th elements:\", result)\n"
      ],
      "metadata": {
        "colab": {
          "base_uri": "https://localhost:8080/"
        },
        "id": "UcE7jpjzcMtu",
        "outputId": "723fb55a-344d-405f-a8a4-d5211898840d"
      },
      "execution_count": 12,
      "outputs": [
        {
          "output_type": "stream",
          "name": "stdout",
          "text": [
            "List after removing 0th, 4th, and 5th elements: [24, 35, 70, 155]\n"
          ]
        }
      ]
    },
    {
      "cell_type": "markdown",
      "source": [
        "12.By using list comprehension, please write a program to print the list after removing delete numbers which are divisible by 5 and 7 in [12,24,35,70,88,120,155]"
      ],
      "metadata": {
        "id": "hkIvrYKBcg-b"
      }
    },
    {
      "cell_type": "code",
      "source": [
        "input_list = [12, 24, 35, 70, 88, 120, 155]\n",
        "result = [item for item in input_list if item % 5 != 0 or item % 7 != 0]\n",
        "print(\"List after removing numbers divisible by 5 and 7:\", result)\n"
      ],
      "metadata": {
        "colab": {
          "base_uri": "https://localhost:8080/"
        },
        "id": "DU075X19chjJ",
        "outputId": "60aeaf34-1940-40c9-e2b0-726a59310089"
      },
      "execution_count": 13,
      "outputs": [
        {
          "output_type": "stream",
          "name": "stdout",
          "text": [
            "List after removing numbers divisible by 5 and 7: [12, 24, 88, 120, 155]\n"
          ]
        }
      ]
    },
    {
      "cell_type": "markdown",
      "source": [
        "13.Please  write  a  program  to  randomly  generate  a  list  with  5  numbers,  which  are divisible by 5 and 7 , between 1 and 1000 inclusive."
      ],
      "metadata": {
        "id": "qYRuwFP5c3G6"
      }
    },
    {
      "cell_type": "code",
      "source": [
        "import random\n",
        "\n",
        "divisible_by_35 = [i for i in range(1, 1001) if i % 35 == 0]\n",
        "random_numbers = random.sample(divisible_by_35, 5)\n",
        "print(\"Randomly generated list with numbers divisible by 5 and 7:\", random_numbers)\n"
      ],
      "metadata": {
        "colab": {
          "base_uri": "https://localhost:8080/"
        },
        "id": "QzwNw1qfc3nt",
        "outputId": "1596b408-2ed3-4170-edb1-0ccf66ca516f"
      },
      "execution_count": 16,
      "outputs": [
        {
          "output_type": "stream",
          "name": "stdout",
          "text": [
            "Randomly generated list with numbers divisible by 5 and 7: [980, 420, 385, 245, 840]\n"
          ]
        }
      ]
    },
    {
      "cell_type": "markdown",
      "source": [
        "14.Write  a  program  to  compute  1/2+2/3+3/4+...+n/n+1  with  a  given  n  input  by console (n>0)."
      ],
      "metadata": {
        "id": "niKKFU5_dTgF"
      }
    },
    {
      "cell_type": "code",
      "source": [
        "n = int(input(\"Enter a positive integer n: \"))\n",
        "sum_series = 0\n",
        "for i in range(1, n+1):\n",
        "    sum_series += i / (i + 1)\n",
        "print(f\"The sum of the series is: {sum_series}\")\n"
      ],
      "metadata": {
        "colab": {
          "base_uri": "https://localhost:8080/"
        },
        "id": "kFXzDQwUdUIH",
        "outputId": "4523e8e3-48f1-4d63-ea78-e5e45628d80c"
      },
      "execution_count": 17,
      "outputs": [
        {
          "output_type": "stream",
          "name": "stdout",
          "text": [
            "Enter a positive integer n: 5\n",
            "The sum of the series is: 3.5500000000000003\n"
          ]
        }
      ]
    }
  ]
}