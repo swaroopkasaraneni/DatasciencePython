{
  "nbformat": 4,
  "nbformat_minor": 0,
  "metadata": {
    "colab": {
      "provenance": [],
      "authorship_tag": "ABX9TyOUUOxim+cH1A00w54z82ai",
      "include_colab_link": true
    },
    "kernelspec": {
      "name": "python3",
      "display_name": "Python 3"
    },
    "language_info": {
      "name": "python"
    }
  },
  "cells": [
    {
      "cell_type": "markdown",
      "metadata": {
        "id": "view-in-github",
        "colab_type": "text"
      },
      "source": [
        "<a href=\"https://colab.research.google.com/github/swaroopkasaraneni/DatasciencePython/blob/main/AssociationRules.ipynb\" target=\"_parent\"><img src=\"https://colab.research.google.com/assets/colab-badge.svg\" alt=\"Open In Colab\"/></a>"
      ]
    },
    {
      "cell_type": "code",
      "execution_count": null,
      "metadata": {
        "id": "I26GRzZLurx2"
      },
      "outputs": [],
      "source": []
    },
    {
      "cell_type": "markdown",
      "source": [
        "1. Key issues: As of now a lot of users return the booksand do not take the new rental.  The rightrecommendation will entice a usersto rent more books\n",
        "\n",
        "\n",
        "```\n",
        "Fields in Data\n",
        "•user_id: Unique Id of the User\n",
        "•isbn: International Standard Book Number is a unique numeric commercial book identifier\n",
        "•rating: the rating given by the user\n",
        "```\n",
        "\n",
        "Increase in both top line and bottom line as more rentals per user means more revenue and more profit\n",
        "\n"
      ],
      "metadata": {
        "id": "3ykgmv9UvsLg"
      }
    },
    {
      "cell_type": "code",
      "source": [
        "import pandas as pd\n",
        "\n",
        "# Load the CSV files into pandas DataFrames\n",
        "user_info_df = pd.read_csv(\"/content/BX-Users.csv\", encoding=\"ISO-8859-1\")\n",
        "books_info_df = pd.read_csv(\"/content/BX-Books.csv\", encoding=\"ISO-8859-1\")\n",
        "ratings_info_df = pd.read_csv(\"/content/BX-Book-Ratings.csv\", encoding=\"ISO-8859-1\")\n",
        "\n",
        "# Display the first few rows of each DataFrame to check the data\n",
        "print(user_info_df.head())\n",
        "print(books_info_df.head())\n",
        "print(ratings_info_df.head())\n",
        "\n",
        "# Handling missing values (e.g., fill missing age with the mean age or drop rows)\n",
        "user_info_df['Age'] = user_info_df['Age'].fillna(user_info_df['Age'].mean())\n",
        "\n",
        "# Display cleaned data\n",
        "print(user_info_df.head())\n",
        "\n",
        "# Create the user-item interaction matrix (ratings)\n",
        "user_item_matrix = ratings_info_df.pivot_table(index='user_id', columns='isbn', values='rating', fill_value=0)\n",
        "\n",
        "# Display the user-item matrix\n",
        "print(user_item_matrix.head())\n",
        "\n",
        "\n"
      ],
      "metadata": {
        "colab": {
          "base_uri": "https://localhost:8080/"
        },
        "id": "r7EvgfWG4Ho0",
        "outputId": "f5e70048-42bb-4d7f-cb16-0bf913924f09"
      },
      "execution_count": 3,
      "outputs": [
        {
          "output_type": "stream",
          "name": "stdout",
          "text": [
            "   user_id                            Location   Age\n",
            "0        1                  nyc, new york, usa   NaN\n",
            "1        2           stockton, california, usa  18.0\n",
            "2        3     moscow, yukon territory, russia   NaN\n",
            "3        4           porto, v.n.gaia, portugal  17.0\n",
            "4        5  farnborough, hants, united kingdom   NaN\n",
            "        isbn                                         book_title  \\\n",
            "0  195153448                                Classical Mythology   \n",
            "1    2005018                                       Clara Callan   \n",
            "2   60973129                               Decision in Normandy   \n",
            "3  374157065  Flu: The Story of the Great Influenza Pandemic...   \n",
            "4  393045218                             The Mummies of Urumchi   \n",
            "\n",
            "            book_author  year_of_publication                   publisher  \n",
            "0    Mark P. O. Morford                 2002     Oxford University Press  \n",
            "1  Richard Bruce Wright                 2001       HarperFlamingo Canada  \n",
            "2          Carlo D'Este                 1991             HarperPerennial  \n",
            "3      Gina Bari Kolata                 1999        Farrar Straus Giroux  \n",
            "4       E. J. W. Barber                 1999  W. W. Norton &amp; Company  \n",
            "   user_id        isbn  rating\n",
            "0   276725  034545104X       0\n",
            "1   276726   155061224       5\n",
            "2   276727   446520802       0\n",
            "3   276729  052165615X       3\n",
            "4   276729   521795028       6\n",
            "   user_id                            Location        Age\n",
            "0        1                  nyc, new york, usa  32.361474\n",
            "1        2           stockton, california, usa  18.000000\n",
            "2        3     moscow, yukon territory, russia  32.361474\n",
            "3        4           porto, v.n.gaia, portugal  17.000000\n",
            "4        5  farnborough, hants, united kingdom  32.361474\n",
            "isbn     000225669X  000651118X  002542730X  006054094X  006250794X  \\\n",
            "user_id                                                               \n",
            "276725          0.0         0.0         0.0         0.0         0.0   \n",
            "276726          0.0         0.0         0.0         0.0         0.0   \n",
            "276727          0.0         0.0         0.0         0.0         0.0   \n",
            "276729          0.0         0.0         0.0         0.0         0.0   \n",
            "276733          0.0         0.0         0.0         0.0         0.0   \n",
            "\n",
            "isbn     006251170X  009975181X  014014899X  015644450X  031214816X  ...  \\\n",
            "user_id                                                              ...   \n",
            "276725          0.0         0.0         0.0         0.0         0.0  ...   \n",
            "276726          0.0         0.0         0.0         0.0         0.0  ...   \n",
            "276727          0.0         0.0         0.0         0.0         0.0  ...   \n",
            "276729          0.0         0.0         0.0         0.0         0.0  ...   \n",
            "276733          0.0         0.0         0.0         0.0         0.0  ...   \n",
            "\n",
            "isbn     99287692  99414732  99460343  99543818  99549611  99845008  99935708  \\\n",
            "user_id                                                                         \n",
            "276725        0.0       0.0       0.0       0.0       0.0       0.0       0.0   \n",
            "276726        0.0       0.0       0.0       0.0       0.0       0.0       0.0   \n",
            "276727        0.0       0.0       0.0       0.0       0.0       0.0       0.0   \n",
            "276729        0.0       0.0       0.0       0.0       0.0       0.0       0.0   \n",
            "276733        0.0       0.0       0.0       0.0       0.0       0.0       0.0   \n",
            "\n",
            "isbn     B0000BLD7X  B158991965  N3453124715  \n",
            "user_id                                       \n",
            "276725          0.0         0.0          0.0  \n",
            "276726          0.0         0.0          0.0  \n",
            "276727          0.0         0.0          0.0  \n",
            "276729          0.0         0.0          0.0  \n",
            "276733          0.0         0.0          0.0  \n",
            "\n",
            "[5 rows x 1140 columns]\n"
          ]
        }
      ]
    },
    {
      "cell_type": "code",
      "source": [
        "from sklearn.metrics import pairwise_distances\n",
        "\n",
        "# Compute pairwise cosine similarity between users\n",
        "user_similarity = 1 - pairwise_distances(user_item_matrix, metric='cosine')\n",
        "\n",
        "# Display user similarity matrix\n",
        "print(user_similarity)\n"
      ],
      "metadata": {
        "colab": {
          "base_uri": "https://localhost:8080/"
        },
        "id": "ZESJ36YO-PNh",
        "outputId": "1e26f574-4cfa-41d9-e107-319bef158058"
      },
      "execution_count": 4,
      "outputs": [
        {
          "output_type": "stream",
          "name": "stdout",
          "text": [
            "[[0. 0. 0. ... 0. 0. 0.]\n",
            " [0. 1. 0. ... 0. 0. 0.]\n",
            " [0. 0. 0. ... 0. 0. 0.]\n",
            " ...\n",
            " [0. 0. 0. ... 1. 0. 0.]\n",
            " [0. 0. 0. ... 0. 1. 0.]\n",
            " [0. 0. 0. ... 0. 0. 1.]]\n"
          ]
        }
      ]
    },
    {
      "cell_type": "code",
      "source": [
        "import numpy as np\n",
        "\n",
        "def recommend_books(user_id, user_item_matrix, user_similarity, top_n=5):\n",
        "    # Find the most similar users (based on the smallest distance)\n",
        "    similar_users = np.argsort(user_similarity[user_id - 1])[::-1]  # Reverse for most similar\n",
        "\n",
        "    # Get the books rented by the similar users\n",
        "    recommended_books = set()\n",
        "    for similar_user in similar_users[1:]:  # Skip the user itself\n",
        "        similar_user_ratings = user_item_matrix.iloc[similar_user]\n",
        "        rented_books = similar_user_ratings[similar_user_ratings > 0].index\n",
        "        recommended_books.update(rented_books)\n",
        "\n",
        "    # Filter out books the user has already rented\n",
        "    user_rented_books = user_item_matrix.iloc[user_id - 1]\n",
        "    already_rented = set(user_rented_books[user_rented_books > 0].index)\n",
        "    new_recommendations = recommended_books - already_rented\n",
        "\n",
        "    # Return top N recommendations\n",
        "    return list(new_recommendations)[:top_n]\n",
        "\n",
        "# Get top 3 book recommendations for user 1\n",
        "recommended_books_for_user_1 = recommend_books(1, user_item_matrix, user_similarity, top_n=3)\n",
        "print(\"Recommended books for User 1:\", recommended_books_for_user_1)\n"
      ],
      "metadata": {
        "colab": {
          "base_uri": "https://localhost:8080/"
        },
        "id": "-FO8EYvV-SMj",
        "outputId": "fae89238-79f8-4cb7-8e6a-b5caa5ce57bb"
      },
      "execution_count": 9,
      "outputs": [
        {
          "output_type": "stream",
          "name": "stdout",
          "text": [
            "Recommended books for User 1: ['3442443806', '743486226', '3596147700']\n"
          ]
        }
      ]
    },
    {
      "cell_type": "code",
      "source": [
        "from sklearn.metrics import precision_score, recall_score\n",
        "\n",
        "# Example: Actual rented books by user 1\n",
        "actual_rented_books = ['034545104X', ]\n",
        "\n",
        "all_book_ids = set(actual_rented_books).union(set(recommended_books_for_user_1))\n",
        "\n",
        "actual_books_binary = [1 if book_id in actual_rented_books else 0 for book_id in all_book_ids]\n",
        "recommended_books_binary = [1 if book_id in recommended_books_for_user_1 else 0 for book_id in all_book_ids]\n",
        "\n",
        "# Calculate precision and recall\n",
        "precision = precision_score(actual_books_binary, recommended_books_binary)\n",
        "recall = recall_score(actual_books_binary, recommended_books_binary)\n",
        "\n",
        "print(f\"Precision: {precision}\")\n",
        "print(f\"Recall: {recall}\")\n"
      ],
      "metadata": {
        "colab": {
          "base_uri": "https://localhost:8080/"
        },
        "id": "Xkywia_d-XN-",
        "outputId": "6d1766fd-e1ca-46a4-aa24-050a6c623e70"
      },
      "execution_count": 7,
      "outputs": [
        {
          "output_type": "stream",
          "name": "stdout",
          "text": [
            "Precision: 0.0\n",
            "Recall: 0.0\n"
          ]
        }
      ]
    },
    {
      "cell_type": "code",
      "source": [
        "all_recommendations = {}\n",
        "\n",
        "for user_id in user_item_matrix.index:\n",
        "    if user_id in user_item_matrix.index and user_id in user_similarity:\n",
        "        all_recommendations[user_id] = recommend_books(user_id, user_item_matrix, user_similarity, top_n=3)\n",
        "    else:\n",
        "        print(f\"User {user_id} not found in user_item_matrix.\")\n",
        "\n",
        "print(all_recommendations)\n"
      ],
      "metadata": {
        "colab": {
          "base_uri": "https://localhost:8080/"
        },
        "id": "v68NOn52-aqA",
        "outputId": "33bcf408-29e9-4d3a-da50-b68e5269499a"
      },
      "execution_count": 14,
      "outputs": [
        {
          "output_type": "stream",
          "name": "stdout",
          "text": [
            "User 276725 not found in user_item_matrix.\n",
            "User 276726 not found in user_item_matrix.\n",
            "User 276727 not found in user_item_matrix.\n",
            "User 276729 not found in user_item_matrix.\n",
            "User 276733 not found in user_item_matrix.\n",
            "User 276736 not found in user_item_matrix.\n",
            "User 276737 not found in user_item_matrix.\n",
            "User 276744 not found in user_item_matrix.\n",
            "User 276745 not found in user_item_matrix.\n",
            "User 276746 not found in user_item_matrix.\n",
            "User 276747 not found in user_item_matrix.\n",
            "User 276748 not found in user_item_matrix.\n",
            "User 276751 not found in user_item_matrix.\n",
            "User 276754 not found in user_item_matrix.\n",
            "User 276755 not found in user_item_matrix.\n",
            "User 276760 not found in user_item_matrix.\n",
            "User 276762 not found in user_item_matrix.\n",
            "User 276765 not found in user_item_matrix.\n",
            "User 276768 not found in user_item_matrix.\n",
            "User 276772 not found in user_item_matrix.\n",
            "User 276774 not found in user_item_matrix.\n",
            "User 276780 not found in user_item_matrix.\n",
            "User 276786 not found in user_item_matrix.\n",
            "User 276788 not found in user_item_matrix.\n",
            "User 276796 not found in user_item_matrix.\n",
            "User 276798 not found in user_item_matrix.\n",
            "User 276800 not found in user_item_matrix.\n",
            "User 276803 not found in user_item_matrix.\n",
            "User 276804 not found in user_item_matrix.\n",
            "User 276806 not found in user_item_matrix.\n",
            "User 276808 not found in user_item_matrix.\n",
            "User 276811 not found in user_item_matrix.\n",
            "User 276812 not found in user_item_matrix.\n",
            "User 276813 not found in user_item_matrix.\n",
            "User 276814 not found in user_item_matrix.\n",
            "User 276817 not found in user_item_matrix.\n",
            "User 276820 not found in user_item_matrix.\n",
            "User 276822 not found in user_item_matrix.\n",
            "User 276827 not found in user_item_matrix.\n",
            "User 276828 not found in user_item_matrix.\n",
            "User 276830 not found in user_item_matrix.\n",
            "User 276832 not found in user_item_matrix.\n",
            "User 276833 not found in user_item_matrix.\n",
            "User 276835 not found in user_item_matrix.\n",
            "User 276837 not found in user_item_matrix.\n",
            "User 276838 not found in user_item_matrix.\n",
            "User 276840 not found in user_item_matrix.\n",
            "User 276842 not found in user_item_matrix.\n",
            "User 276847 not found in user_item_matrix.\n",
            "User 276848 not found in user_item_matrix.\n",
            "User 276850 not found in user_item_matrix.\n",
            "User 276852 not found in user_item_matrix.\n",
            "User 276853 not found in user_item_matrix.\n",
            "User 276854 not found in user_item_matrix.\n",
            "User 276856 not found in user_item_matrix.\n",
            "User 276857 not found in user_item_matrix.\n",
            "User 276859 not found in user_item_matrix.\n",
            "User 276861 not found in user_item_matrix.\n",
            "User 276862 not found in user_item_matrix.\n",
            "User 276863 not found in user_item_matrix.\n",
            "User 276866 not found in user_item_matrix.\n",
            "User 276869 not found in user_item_matrix.\n",
            "User 276870 not found in user_item_matrix.\n",
            "User 276872 not found in user_item_matrix.\n",
            "User 276873 not found in user_item_matrix.\n",
            "User 276875 not found in user_item_matrix.\n",
            "User 276878 not found in user_item_matrix.\n",
            "User 276879 not found in user_item_matrix.\n",
            "User 276884 not found in user_item_matrix.\n",
            "User 276887 not found in user_item_matrix.\n",
            "User 276888 not found in user_item_matrix.\n",
            "User 276889 not found in user_item_matrix.\n",
            "User 276890 not found in user_item_matrix.\n",
            "User 276896 not found in user_item_matrix.\n",
            "User 276904 not found in user_item_matrix.\n",
            "User 276905 not found in user_item_matrix.\n",
            "User 276911 not found in user_item_matrix.\n",
            "User 276912 not found in user_item_matrix.\n",
            "User 276915 not found in user_item_matrix.\n",
            "User 276916 not found in user_item_matrix.\n",
            "User 276925 not found in user_item_matrix.\n",
            "User 276927 not found in user_item_matrix.\n",
            "User 276928 not found in user_item_matrix.\n",
            "User 276929 not found in user_item_matrix.\n",
            "User 276934 not found in user_item_matrix.\n",
            "User 276936 not found in user_item_matrix.\n",
            "User 276939 not found in user_item_matrix.\n",
            "User 276943 not found in user_item_matrix.\n",
            "User 276946 not found in user_item_matrix.\n",
            "User 276949 not found in user_item_matrix.\n",
            "User 276950 not found in user_item_matrix.\n",
            "User 276953 not found in user_item_matrix.\n",
            "User 276954 not found in user_item_matrix.\n",
            "User 276957 not found in user_item_matrix.\n",
            "User 276959 not found in user_item_matrix.\n",
            "User 276963 not found in user_item_matrix.\n",
            "User 276964 not found in user_item_matrix.\n",
            "User 276965 not found in user_item_matrix.\n",
            "User 276975 not found in user_item_matrix.\n",
            "User 276981 not found in user_item_matrix.\n",
            "User 276984 not found in user_item_matrix.\n",
            "User 276986 not found in user_item_matrix.\n",
            "User 276988 not found in user_item_matrix.\n",
            "User 276989 not found in user_item_matrix.\n",
            "User 276990 not found in user_item_matrix.\n",
            "User 276992 not found in user_item_matrix.\n",
            "User 276994 not found in user_item_matrix.\n",
            "User 276997 not found in user_item_matrix.\n",
            "User 276998 not found in user_item_matrix.\n",
            "User 277002 not found in user_item_matrix.\n",
            "User 277007 not found in user_item_matrix.\n",
            "User 277009 not found in user_item_matrix.\n",
            "User 277010 not found in user_item_matrix.\n",
            "User 277012 not found in user_item_matrix.\n",
            "User 277018 not found in user_item_matrix.\n",
            "User 277019 not found in user_item_matrix.\n",
            "User 277022 not found in user_item_matrix.\n",
            "User 277023 not found in user_item_matrix.\n",
            "User 277028 not found in user_item_matrix.\n",
            "User 277031 not found in user_item_matrix.\n",
            "User 277032 not found in user_item_matrix.\n",
            "User 277035 not found in user_item_matrix.\n",
            "User 277036 not found in user_item_matrix.\n",
            "User 277040 not found in user_item_matrix.\n",
            "User 277042 not found in user_item_matrix.\n",
            "User 277048 not found in user_item_matrix.\n",
            "User 277051 not found in user_item_matrix.\n",
            "User 277052 not found in user_item_matrix.\n",
            "User 277053 not found in user_item_matrix.\n",
            "User 277056 not found in user_item_matrix.\n",
            "User 277058 not found in user_item_matrix.\n",
            "User 277064 not found in user_item_matrix.\n",
            "User 277065 not found in user_item_matrix.\n",
            "User 277072 not found in user_item_matrix.\n",
            "User 277073 not found in user_item_matrix.\n",
            "User 277074 not found in user_item_matrix.\n",
            "User 277075 not found in user_item_matrix.\n",
            "User 277079 not found in user_item_matrix.\n",
            "User 277085 not found in user_item_matrix.\n",
            "User 277087 not found in user_item_matrix.\n",
            "User 277090 not found in user_item_matrix.\n",
            "User 277094 not found in user_item_matrix.\n",
            "User 277096 not found in user_item_matrix.\n",
            "User 277102 not found in user_item_matrix.\n",
            "User 277107 not found in user_item_matrix.\n",
            "User 277109 not found in user_item_matrix.\n",
            "User 277114 not found in user_item_matrix.\n",
            "User 277116 not found in user_item_matrix.\n",
            "User 277123 not found in user_item_matrix.\n",
            "User 277124 not found in user_item_matrix.\n",
            "User 277128 not found in user_item_matrix.\n",
            "User 277129 not found in user_item_matrix.\n",
            "User 277134 not found in user_item_matrix.\n",
            "User 277135 not found in user_item_matrix.\n",
            "User 277139 not found in user_item_matrix.\n",
            "User 277142 not found in user_item_matrix.\n",
            "User 277143 not found in user_item_matrix.\n",
            "User 277149 not found in user_item_matrix.\n",
            "User 277155 not found in user_item_matrix.\n",
            "User 277157 not found in user_item_matrix.\n",
            "User 277159 not found in user_item_matrix.\n",
            "User 277165 not found in user_item_matrix.\n",
            "User 277168 not found in user_item_matrix.\n",
            "User 277170 not found in user_item_matrix.\n",
            "User 277171 not found in user_item_matrix.\n",
            "User 277176 not found in user_item_matrix.\n",
            "User 277179 not found in user_item_matrix.\n",
            "User 277180 not found in user_item_matrix.\n",
            "User 277183 not found in user_item_matrix.\n",
            "User 277186 not found in user_item_matrix.\n",
            "User 277187 not found in user_item_matrix.\n",
            "User 277188 not found in user_item_matrix.\n",
            "User 277189 not found in user_item_matrix.\n",
            "User 277195 not found in user_item_matrix.\n",
            "{}\n"
          ]
        }
      ]
    }
  ]
}